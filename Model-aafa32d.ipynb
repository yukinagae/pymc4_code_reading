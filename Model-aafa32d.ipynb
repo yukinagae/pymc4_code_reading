{
 "cells": [
  {
   "cell_type": "markdown",
   "metadata": {},
   "source": [
    "# Modelクラスのコードリーディング"
   ]
  },
  {
   "cell_type": "markdown",
   "metadata": {},
   "source": [
    "## setup"
   ]
  },
  {
   "cell_type": "markdown",
   "metadata": {},
   "source": [
    "import"
   ]
  },
  {
   "cell_type": "code",
   "execution_count": 2,
   "metadata": {
    "collapsed": true
   },
   "outputs": [],
   "source": [
    "from __future__ import absolute_import\n",
    "from __future__ import division\n",
    "from __future__ import print_function\n",
    "import threading"
   ]
  },
  {
   "cell_type": "markdown",
   "metadata": {},
   "source": [
    "Contextクラス"
   ]
  },
  {
   "cell_type": "code",
   "execution_count": 3,
   "metadata": {},
   "outputs": [],
   "source": [
    "class Context(object):\n",
    "    \"\"\"Functionality for objects that put themselves in a context using\n",
    "    the `with` statement.\n",
    "    \"\"\"\n",
    "    contexts = threading.local()\n",
    "\n",
    "    def __enter__(self):\n",
    "        type(self).get_contexts().append(self)\n",
    "        return self\n",
    "\n",
    "    def __exit__(self, typ, value, traceback):\n",
    "        type(self).get_contexts().pop()"
   ]
  },
  {
   "cell_type": "markdown",
   "metadata": {},
   "source": [
    "# Modelクラス"
   ]
  },
  {
   "cell_type": "code",
   "execution_count": 6,
   "metadata": {
    "collapsed": true
   },
   "outputs": [],
   "source": [
    "class Model(Context):\n",
    "    def __new__(cls, *args, **kwargs):\n",
    "        instance = super(Model, cls).__new__(cls)\n",
    "        if kwargs.get('model') is not None:\n",
    "            instance.parent = kwargs.get('model')\n",
    "        elif cls.get_contexts():\n",
    "            instance.parent = cls.get_contexts()[-1]\n",
    "        else:\n",
    "            instance.parent = None\n",
    "            \n",
    "    \n",
    "    def __init__(self, name=\"\", model=None, ):\n",
    "        self.name = name\n",
    "        if self.parent is not None:\n",
    "            self.named_vars = treedict(parent=self.parent.named_vars)\n",
    "        else:\n",
    "            self.named_vars = treedict()\n",
    "            \n",
    "    @property\n",
    "    def model(self):\n",
    "        return self\n",
    "    \n",
    "    @property\n",
    "    def decription(self):\n",
    "        return\n",
    "    \n",
    "    @classmethod\n",
    "    def get_contexts(cls):\n",
    "        # no race-condition here, cls.contexts is a thread-local object\n",
    "        # be sure not to override contexts in a subclass however!\n",
    "        if not hasattr(cls.contexts, 'stack'):\n",
    "            cls.contexts.stack = []\n",
    "        return cls.contexts.stack\n",
    "\n",
    "    @classmethod\n",
    "    def get_context(cls):\n",
    "        \"\"\"Return the deepest context on the stack.\"\"\"\n",
    "        try:\n",
    "            return cls.get_contexts()[-1]\n",
    "        except IndexError:\n",
    "            raise TypeError(\"No context on context stack\")\n",
    "            \n",
    "    def add_random_variable(self, var):\n",
    "        \"\"\"Add a random variable to the named variables of the model.\"\"\"\n",
    "        if self.named_vars.tree_contains(var.name):\n",
    "            raise ValueError(\n",
    "                \"Variable name {} already exists.\".format(var.name))\n",
    "        self.named_vars[var.name] = var"
   ]
  },
  {
   "cell_type": "markdown",
   "metadata": {},
   "source": [
    "TODO there may be many things I can play with \"Model\" class"
   ]
  },
  {
   "cell_type": "code",
   "execution_count": null,
   "metadata": {
    "collapsed": true
   },
   "outputs": [],
   "source": []
  }
 ],
 "metadata": {
  "kernelspec": {
   "display_name": "Python 3",
   "language": "python",
   "name": "python3"
  },
  "language_info": {
   "codemirror_mode": {
    "name": "ipython",
    "version": 3
   },
   "file_extension": ".py",
   "mimetype": "text/x-python",
   "name": "python",
   "nbconvert_exporter": "python",
   "pygments_lexer": "ipython3",
   "version": "3.6.2"
  }
 },
 "nbformat": 4,
 "nbformat_minor": 2
}
