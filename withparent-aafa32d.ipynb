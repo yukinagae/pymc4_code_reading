{
 "cells": [
  {
   "cell_type": "markdown",
   "metadata": {},
   "source": [
    "# withparentのコードリーディング"
   ]
  },
  {
   "cell_type": "code",
   "execution_count": 94,
   "metadata": {
    "collapsed": true
   },
   "outputs": [],
   "source": [
    "class treedict(dict):\n",
    "    def __init__(self, iterable=(), parent=None, **kwargs):\n",
    "        super(treedict, self).__init__(iterable, **kwargs)"
   ]
  },
  {
   "cell_type": "code",
   "execution_count": 95,
   "metadata": {},
   "outputs": [],
   "source": [
    "t = treedict()"
   ]
  },
  {
   "cell_type": "code",
   "execution_count": 96,
   "metadata": {},
   "outputs": [
    {
     "data": {
      "text/plain": [
       "{}"
      ]
     },
     "execution_count": 96,
     "metadata": {},
     "output_type": "execute_result"
    }
   ],
   "source": [
    "t"
   ]
  },
  {
   "cell_type": "code",
   "execution_count": 97,
   "metadata": {},
   "outputs": [
    {
     "data": {
      "text/plain": [
       "{'a': 1}"
      ]
     },
     "execution_count": 97,
     "metadata": {},
     "output_type": "execute_result"
    }
   ],
   "source": [
    "t.__setitem__('a', 1)\n",
    "t # => {'a': 1}"
   ]
  },
  {
   "cell_type": "code",
   "execution_count": 98,
   "metadata": {},
   "outputs": [
    {
     "data": {
      "text/plain": [
       "{'a': 1, 'b': 2}"
      ]
     },
     "execution_count": 98,
     "metadata": {},
     "output_type": "execute_result"
    }
   ],
   "source": [
    "t.update({'b': 2})\n",
    "t # => {'a': 1, 'b': 2}"
   ]
  },
  {
   "cell_type": "markdown",
   "metadata": {},
   "source": [
    "# wrapped"
   ]
  },
  {
   "cell_type": "code",
   "execution_count": 87,
   "metadata": {
    "collapsed": true
   },
   "outputs": [],
   "source": [
    "def withparent(meth):\n",
    "    \"\"\"Helper wrapper that passes calls to parent's instance\"\"\"\n",
    "    def wrapped(self, *args, **kwargs):\n",
    "        print(\"meth: \", meth) # <= debug\n",
    "        print(\"meth.name: \", meth.__name__) # <= debug\n",
    "        res = meth(self, *args, **kwargs)\n",
    "        print(\"res: \", res) # <= debug\n",
    "        if getattr(self, 'parent', None) is not None:\n",
    "            print(\"parent: \", self.parent) # <= debug\n",
    "            getattr(self.parent, meth.__name__)(*args, **kwargs)\n",
    "        return res\n",
    "    # Unfortunately functools wrapper fails\n",
    "    # when decorating built-in methods so we\n",
    "    # need to fix that improper behaviour\n",
    "    print(\"wrapped.name before: \", wrapped.__name__) # <= debug\n",
    "    wrapped.__name__ = meth.__name__\n",
    "    print(\"wrapped.name after: \", wrapped.__name__) # <= debug\n",
    "    return wrapped"
   ]
  },
  {
   "cell_type": "code",
   "execution_count": 99,
   "metadata": {},
   "outputs": [
    {
     "name": "stdout",
     "output_type": "stream",
     "text": [
      "wrapped.name before:  wrapped\n",
      "wrapped.name after:  __setitem__\n"
     ]
    }
   ],
   "source": [
    "class treedict(dict):\n",
    "    \n",
    "    def __init__(self, iterable=(), parent=None, **kwargs):\n",
    "        super(treedict, self).__init__(iterable, **kwargs)\n",
    "        assert isinstance(parent, dict) or parent is None\n",
    "        self.parent = parent\n",
    "        if self.parent is not None:\n",
    "            self.parent.update(self)\n",
    "        \n",
    "    foo = withparent(dict.__setitem__)"
   ]
  },
  {
   "cell_type": "markdown",
   "metadata": {},
   "source": [
    "parentが存在しない場合"
   ]
  },
  {
   "cell_type": "code",
   "execution_count": 100,
   "metadata": {},
   "outputs": [],
   "source": [
    "t = treedict()"
   ]
  },
  {
   "cell_type": "code",
   "execution_count": 101,
   "metadata": {},
   "outputs": [
    {
     "name": "stdout",
     "output_type": "stream",
     "text": [
      "meth:  <slot wrapper '__setitem__' of 'dict' objects>\n",
      "meth.name:  __setitem__\n",
      "res:  None\n"
     ]
    },
    {
     "data": {
      "text/plain": [
       "{'a': 1}"
      ]
     },
     "execution_count": 101,
     "metadata": {},
     "output_type": "execute_result"
    }
   ],
   "source": [
    "t.foo('a', 1)\n",
    "t # => {'a': 1}"
   ]
  },
  {
   "cell_type": "markdown",
   "metadata": {},
   "source": [
    "parentが存在する場合"
   ]
  },
  {
   "cell_type": "code",
   "execution_count": 102,
   "metadata": {},
   "outputs": [
    {
     "data": {
      "text/plain": [
       "{}"
      ]
     },
     "execution_count": 102,
     "metadata": {},
     "output_type": "execute_result"
    }
   ],
   "source": [
    "t = treedict(parent={'x': 9})\n",
    "t"
   ]
  },
  {
   "cell_type": "code",
   "execution_count": 103,
   "metadata": {},
   "outputs": [
    {
     "data": {
      "text/plain": [
       "{'x': 9}"
      ]
     },
     "execution_count": 103,
     "metadata": {},
     "output_type": "execute_result"
    }
   ],
   "source": [
    "t.parent"
   ]
  },
  {
   "cell_type": "code",
   "execution_count": 104,
   "metadata": {},
   "outputs": [
    {
     "name": "stdout",
     "output_type": "stream",
     "text": [
      "meth:  <slot wrapper '__setitem__' of 'dict' objects>\n",
      "meth.name:  __setitem__\n",
      "res:  None\n",
      "parent:  {'x': 9}\n"
     ]
    },
    {
     "data": {
      "text/plain": [
       "{'a': 1}"
      ]
     },
     "execution_count": 104,
     "metadata": {},
     "output_type": "execute_result"
    }
   ],
   "source": [
    "t.foo('a', 1)\n",
    "t # => {'a': 1}"
   ]
  },
  {
   "cell_type": "code",
   "execution_count": 105,
   "metadata": {},
   "outputs": [
    {
     "data": {
      "text/plain": [
       "{'a': 1, 'x': 9}"
      ]
     },
     "execution_count": 105,
     "metadata": {},
     "output_type": "execute_result"
    }
   ],
   "source": [
    "t.parent"
   ]
  }
 ],
 "metadata": {
  "kernelspec": {
   "display_name": "Python 3",
   "language": "python",
   "name": "python3"
  },
  "language_info": {
   "codemirror_mode": {
    "name": "ipython",
    "version": 3
   },
   "file_extension": ".py",
   "mimetype": "text/x-python",
   "name": "python",
   "nbconvert_exporter": "python",
   "pygments_lexer": "ipython3",
   "version": "3.6.2"
  }
 },
 "nbformat": 4,
 "nbformat_minor": 2
}
