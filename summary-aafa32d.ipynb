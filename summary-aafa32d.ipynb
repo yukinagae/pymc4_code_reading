{
 "cells": [
  {
   "cell_type": "markdown",
   "metadata": {},
   "source": [
    "# Model + RandomVariableクラスのコードリーディング"
   ]
  },
  {
   "cell_type": "markdown",
   "metadata": {},
   "source": [
    "## setup"
   ]
  },
  {
   "cell_type": "markdown",
   "metadata": {},
   "source": [
    "import"
   ]
  },
  {
   "cell_type": "code",
   "execution_count": 2,
   "metadata": {},
   "outputs": [
    {
     "name": "stderr",
     "output_type": "stream",
     "text": [
      "/Users/yuki/.pyenv/versions/miniconda3-4.1.11/envs/ml_env/lib/python3.6/importlib/_bootstrap.py:205: RuntimeWarning: compiletime version 3.5 of module 'tensorflow.python.framework.fast_tensor_util' does not match runtime version 3.6\n",
      "  return f(*args, **kwds)\n",
      "/Users/yuki/.pyenv/versions/miniconda3-4.1.11/envs/ml_env/lib/python3.6/site-packages/h5py/__init__.py:34: FutureWarning: Conversion of the second argument of issubdtype from `float` to `np.floating` is deprecated. In future, it will be treated as `np.float64 == np.dtype(float).type`.\n",
      "  from ._conv import register_converters as _register_converters\n"
     ]
    }
   ],
   "source": [
    "from __future__ import absolute_import\n",
    "from __future__ import division\n",
    "from __future__ import print_function\n",
    "import threading\n",
    "\n",
    "from tensorflow_probability import edward2 as ed"
   ]
  },
  {
   "cell_type": "markdown",
   "metadata": {},
   "source": [
    "Contextクラス"
   ]
  },
  {
   "cell_type": "code",
   "execution_count": 41,
   "metadata": {
    "collapsed": true
   },
   "outputs": [],
   "source": [
    "class Context(object):\n",
    "    \"\"\"Functionality for objects that put themselves in a context using\n",
    "    the `with` statement.\n",
    "    \"\"\"\n",
    "    contexts = threading.local()\n",
    "\n",
    "    def __enter__(self):\n",
    "        type(self).get_contexts().append(self)\n",
    "        return self\n",
    "\n",
    "    def __exit__(self, typ, value, traceback):\n",
    "        type(self).get_contexts().pop()"
   ]
  },
  {
   "cell_type": "markdown",
   "metadata": {},
   "source": [
    "withparentメソッド"
   ]
  },
  {
   "cell_type": "code",
   "execution_count": 42,
   "metadata": {},
   "outputs": [],
   "source": [
    "def withparent(meth):\n",
    "    \"\"\"Helper wrapper that passes calls to parent's instance\"\"\"\n",
    "    def wrapped(self, *args, **kwargs):\n",
    "        res = meth(self, *args, **kwargs)\n",
    "        if getattr(self, 'parent', None) is not None:\n",
    "            getattr(self.parent, meth.__name__)(*args, **kwargs)\n",
    "        return res\n",
    "    # Unfortunately functools wrapper fails\n",
    "    # when decorating built-in methods so we\n",
    "    # need to fix that improper behaviour\n",
    "    wrapped.__name__ = meth.__name__\n",
    "    return wrapped"
   ]
  },
  {
   "cell_type": "markdown",
   "metadata": {},
   "source": [
    "treedictクラス"
   ]
  },
  {
   "cell_type": "code",
   "execution_count": 43,
   "metadata": {},
   "outputs": [],
   "source": [
    "class treedict(dict):\n",
    "    \"\"\"A dict that passes mutable extending operations used in Model\n",
    "    to parent dict instance.\n",
    "    Extending treedict you will also extend its parent\n",
    "    \"\"\"\n",
    "    def __init__(self, iterable=(), parent=None, **kwargs):\n",
    "        super(treedict, self).__init__(iterable, **kwargs)\n",
    "        assert isinstance(parent, dict) or parent is None\n",
    "        self.parent = parent\n",
    "        if self.parent is not None:\n",
    "            self.parent.update(self)\n",
    "    # typechecking here works bad\n",
    "    __setitem__ = withparent(dict.__setitem__)\n",
    "    update = withparent(dict.update)\n",
    "\n",
    "    def tree_contains(self, item):\n",
    "        # needed for `add_random_variable` method\n",
    "        if isinstance(self.parent, treedict):\n",
    "            return (dict.__contains__(self, item) or\n",
    "                    self.parent.tree_contains(item))\n",
    "        elif isinstance(self.parent, dict):\n",
    "            return (dict.__contains__(self, item) or\n",
    "                    self.parent.__contains__(item))\n",
    "        else:\n",
    "            return dict.__contains__(self, item)\n"
   ]
  },
  {
   "cell_type": "markdown",
   "metadata": {},
   "source": [
    "Modelクラス"
   ]
  },
  {
   "cell_type": "code",
   "execution_count": 47,
   "metadata": {
    "collapsed": true
   },
   "outputs": [],
   "source": [
    "class Model(Context):\n",
    "    def __new__(cls, *args, **kwargs):\n",
    "        instance = super(Model, cls).__new__(cls)\n",
    "        if kwargs.get('model') is not None:\n",
    "            instance.parent = kwargs.get('model')\n",
    "        elif cls.get_contexts():\n",
    "            instance.parent = cls.get_contexts()[-1]\n",
    "        else:\n",
    "            instance.parent = None\n",
    "        return instance\n",
    "            \n",
    "    \n",
    "    def __init__(self, name=\"\", model=None, ):\n",
    "        self.name = name\n",
    "        if self.parent is not None:\n",
    "            self.named_vars = treedict(parent=self.parent.named_vars)\n",
    "        else:\n",
    "            self.named_vars = treedict()\n",
    "            \n",
    "    @property\n",
    "    def model(self):\n",
    "        return self\n",
    "    \n",
    "    @property\n",
    "    def decription(self):\n",
    "        return\n",
    "    \n",
    "    @classmethod\n",
    "    def get_contexts(cls):\n",
    "        # no race-condition here, cls.contexts is a thread-local object\n",
    "        # be sure not to override contexts in a subclass however!\n",
    "        if not hasattr(cls.contexts, 'stack'):\n",
    "            cls.contexts.stack = []\n",
    "        return cls.contexts.stack\n",
    "\n",
    "    @classmethod\n",
    "    def get_context(cls):\n",
    "        \"\"\"Return the deepest context on the stack.\"\"\"\n",
    "        try:\n",
    "            return cls.get_contexts()[-1]\n",
    "        except IndexError:\n",
    "            raise TypeError(\"No context on context stack\")\n",
    "            \n",
    "    def add_random_variable(self, var):\n",
    "        \"\"\"Add a random variable to the named variables of the model.\"\"\"\n",
    "        if self.named_vars.tree_contains(var.name):\n",
    "            raise ValueError(\n",
    "                \"Variable name {} already exists.\".format(var.name))\n",
    "        self.named_vars[var.name] = var"
   ]
  },
  {
   "cell_type": "markdown",
   "metadata": {},
   "source": [
    "RandomVariableクラス"
   ]
  },
  {
   "cell_type": "code",
   "execution_count": 57,
   "metadata": {},
   "outputs": [],
   "source": [
    "class RandomVariable(ed.RandomVariable):\n",
    "    \n",
    "    def __init__(\n",
    "                self,\n",
    "                distribution,\n",
    "                sample_shape=(),\n",
    "                value=None,\n",
    "                name=\"RV\"\n",
    "                ):\n",
    "        self.model = Model.get_context()\n",
    "        self.name = name\n",
    "\n",
    "        super(RandomVariable, self).__init__(\n",
    "                                                distribution,\n",
    "                                                sample_shape,\n",
    "                                                value,\n",
    "                                                )\n",
    "        \n",
    "        self.model.add_random_variable(self)"
   ]
  },
  {
   "cell_type": "markdown",
   "metadata": {},
   "source": [
    "# 動作確認"
   ]
  },
  {
   "cell_type": "markdown",
   "metadata": {},
   "source": [
    "`with` でModelインスタンスを生成する度に、stackの末尾にそのmodelインスタンスが生成され、`parent` が設定されるテスト"
   ]
  },
  {
   "cell_type": "code",
   "execution_count": 102,
   "metadata": {
    "collapsed": true
   },
   "outputs": [
    {
     "name": "stdout",
     "output_type": "stream",
     "text": [
      "before:  []\n",
      "[1] inside with ['model1:None']\n",
      "[2] inside with ['model1:None', 'model2:<__main__.Model object at 0x122666f60>']\n",
      "model2's parent:  model1\n",
      "[3] inside with ['model3:None']\n",
      "after:  []\n"
     ]
    }
   ],
   "source": [
    "print(\"before: \", Model.get_contexts())\n",
    "\n",
    "with Model(name=\"model1\") as model1:\n",
    "    print(\"[1] inside with\", [\"{}:{}\".format(x.name, getattr(x, 'parent', None)) for x in Model.get_contexts()])\n",
    "    with Model(name=\"model2\") as model2:\n",
    "        print(\"[2] inside with\", [\"{}:{}\".format(x.name, getattr(x, 'parent', None)) for x in Model.get_contexts()])\n",
    "        print(\"model2's parent: \", model2.parent.name)\n",
    "    \n",
    "with Model(name=\"model3\") as model3:\n",
    "    print(\"[3] inside with\", [\"{}:{}\".format(x.name, getattr(x, 'parent', None)) for x in Model.get_contexts()])\n",
    "\n",
    "print(\"after: \", Model.get_contexts())"
   ]
  },
  {
   "cell_type": "markdown",
   "metadata": {},
   "source": [
    "RandomVariableが設定されるテスト"
   ]
  },
  {
   "cell_type": "code",
   "execution_count": 101,
   "metadata": {
    "collapsed": true
   },
   "outputs": [
    {
     "ename": "AttributeError",
     "evalue": "'RandomVariable' object has no attribute 'sample'",
     "output_type": "error",
     "traceback": [
      "\u001b[0;31m---------------------------------------------------------------------------\u001b[0m",
      "\u001b[0;31mAttributeError\u001b[0m                            Traceback (most recent call last)",
      "\u001b[0;32m<ipython-input-101-b0b7e4c3d096>\u001b[0m in \u001b[0;36m<module>\u001b[0;34m()\u001b[0m\n\u001b[1;32m      1\u001b[0m \u001b[0;32mwith\u001b[0m \u001b[0mModel\u001b[0m\u001b[0;34m(\u001b[0m\u001b[0mname\u001b[0m\u001b[0;34m=\u001b[0m\u001b[0;34m\"model1\"\u001b[0m\u001b[0;34m)\u001b[0m \u001b[0;32mas\u001b[0m \u001b[0mmodel1\u001b[0m\u001b[0;34m:\u001b[0m\u001b[0;34m\u001b[0m\u001b[0m\n\u001b[0;32m----> 2\u001b[0;31m     \u001b[0mrv\u001b[0m \u001b[0;34m=\u001b[0m \u001b[0mRandomVariable\u001b[0m\u001b[0;34m(\u001b[0m\u001b[0med\u001b[0m\u001b[0;34m.\u001b[0m\u001b[0mNormal\u001b[0m\u001b[0;34m(\u001b[0m\u001b[0;36m0.\u001b[0m\u001b[0;34m,\u001b[0m \u001b[0;36m1.\u001b[0m\u001b[0;34m)\u001b[0m\u001b[0;34m,\u001b[0m \u001b[0mname\u001b[0m\u001b[0;34m=\u001b[0m\u001b[0;34m\"x\"\u001b[0m\u001b[0;34m,\u001b[0m \u001b[0msample_shape\u001b[0m\u001b[0;34m=\u001b[0m\u001b[0;36m10000\u001b[0m\u001b[0;34m)\u001b[0m\u001b[0;34m\u001b[0m\u001b[0m\n\u001b[0m",
      "\u001b[0;32m<ipython-input-57-8a9e93b9995d>\u001b[0m in \u001b[0;36m__init__\u001b[0;34m(self, distribution, sample_shape, value, name)\u001b[0m\n\u001b[1;32m     14\u001b[0m                                                 \u001b[0mdistribution\u001b[0m\u001b[0;34m,\u001b[0m\u001b[0;34m\u001b[0m\u001b[0m\n\u001b[1;32m     15\u001b[0m                                                 \u001b[0msample_shape\u001b[0m\u001b[0;34m,\u001b[0m\u001b[0;34m\u001b[0m\u001b[0m\n\u001b[0;32m---> 16\u001b[0;31m                                                 \u001b[0mvalue\u001b[0m\u001b[0;34m,\u001b[0m\u001b[0;34m\u001b[0m\u001b[0m\n\u001b[0m\u001b[1;32m     17\u001b[0m                                                 )\n\u001b[1;32m     18\u001b[0m \u001b[0;34m\u001b[0m\u001b[0m\n",
      "\u001b[0;32m~/.local/lib/python3.6/site-packages/tensorflow_probability/python/edward2/random_variable.py\u001b[0m in \u001b[0;36m__init__\u001b[0;34m(self, distribution, sample_shape, value)\u001b[0m\n\u001b[1;32m    124\u001b[0m     \u001b[0;32melse\u001b[0m\u001b[0;34m:\u001b[0m\u001b[0;34m\u001b[0m\u001b[0m\n\u001b[1;32m    125\u001b[0m       \u001b[0;32mtry\u001b[0m\u001b[0;34m:\u001b[0m\u001b[0;34m\u001b[0m\u001b[0m\n\u001b[0;32m--> 126\u001b[0;31m         \u001b[0mself\u001b[0m\u001b[0;34m.\u001b[0m\u001b[0m_value\u001b[0m \u001b[0;34m=\u001b[0m \u001b[0mself\u001b[0m\u001b[0;34m.\u001b[0m\u001b[0mdistribution\u001b[0m\u001b[0;34m.\u001b[0m\u001b[0msample\u001b[0m\u001b[0;34m(\u001b[0m\u001b[0mself\u001b[0m\u001b[0;34m.\u001b[0m\u001b[0msample_shape_tensor\u001b[0m\u001b[0;34m(\u001b[0m\u001b[0;34m)\u001b[0m\u001b[0;34m)\u001b[0m\u001b[0;34m\u001b[0m\u001b[0m\n\u001b[0m\u001b[1;32m    127\u001b[0m       \u001b[0;32mexcept\u001b[0m \u001b[0mNotImplementedError\u001b[0m\u001b[0;34m:\u001b[0m\u001b[0;34m\u001b[0m\u001b[0m\n\u001b[1;32m    128\u001b[0m         raise NotImplementedError(\n",
      "\u001b[0;31mAttributeError\u001b[0m: 'RandomVariable' object has no attribute 'sample'"
     ]
    }
   ],
   "source": [
    "with Model(name=\"model1\") as model1:\n",
    "    rv = RandomVariable(ed.Normal(0., 1.), name=\"x\", sample_shape=10000)"
   ]
  },
  {
   "cell_type": "code",
   "execution_count": null,
   "metadata": {},
   "outputs": [],
   "source": []
  }
 ],
 "metadata": {
  "kernelspec": {
   "display_name": "Python 3",
   "language": "python",
   "name": "python3"
  },
  "language_info": {
   "codemirror_mode": {
    "name": "ipython",
    "version": 3
   },
   "file_extension": ".py",
   "mimetype": "text/x-python",
   "name": "python",
   "nbconvert_exporter": "python",
   "pygments_lexer": "ipython3",
   "version": "3.6.2"
  }
 },
 "nbformat": 4,
 "nbformat_minor": 2
}
