{
 "cells": [
  {
   "cell_type": "markdown",
   "metadata": {},
   "source": [
    "# Model + RandomVariableクラスのコードリーディング"
   ]
  },
  {
   "cell_type": "markdown",
   "metadata": {},
   "source": [
    "## setup"
   ]
  },
  {
   "cell_type": "markdown",
   "metadata": {},
   "source": [
    "import"
   ]
  },
  {
   "cell_type": "code",
   "execution_count": 1,
   "metadata": {},
   "outputs": [
    {
     "name": "stderr",
     "output_type": "stream",
     "text": [
      "/Users/yuki/.pyenv/versions/miniconda3-4.1.11/envs/ml_env/lib/python3.6/importlib/_bootstrap.py:205: RuntimeWarning: compiletime version 3.5 of module 'tensorflow.python.framework.fast_tensor_util' does not match runtime version 3.6\n",
      "  return f(*args, **kwds)\n",
      "/Users/yuki/.pyenv/versions/miniconda3-4.1.11/envs/ml_env/lib/python3.6/site-packages/h5py/__init__.py:34: FutureWarning: Conversion of the second argument of issubdtype from `float` to `np.floating` is deprecated. In future, it will be treated as `np.float64 == np.dtype(float).type`.\n",
      "  from ._conv import register_converters as _register_converters\n"
     ]
    }
   ],
   "source": [
    "from __future__ import absolute_import\n",
    "from __future__ import division\n",
    "from __future__ import print_function\n",
    "import threading\n",
    "\n",
    "from tensorflow_probability import edward2 as ed"
   ]
  },
  {
   "cell_type": "markdown",
   "metadata": {},
   "source": [
    "Contextクラス"
   ]
  },
  {
   "cell_type": "code",
   "execution_count": 2,
   "metadata": {
    "collapsed": true
   },
   "outputs": [],
   "source": [
    "class Context(object):\n",
    "    \"\"\"Functionality for objects that put themselves in a context using\n",
    "    the `with` statement.\n",
    "    \"\"\"\n",
    "    contexts = threading.local()\n",
    "\n",
    "    def __enter__(self):\n",
    "        type(self).get_contexts().append(self)\n",
    "        return self\n",
    "\n",
    "    def __exit__(self, typ, value, traceback):\n",
    "        type(self).get_contexts().pop()"
   ]
  },
  {
   "cell_type": "markdown",
   "metadata": {},
   "source": [
    "withparentメソッド"
   ]
  },
  {
   "cell_type": "code",
   "execution_count": 3,
   "metadata": {
    "collapsed": true
   },
   "outputs": [],
   "source": [
    "def withparent(meth):\n",
    "    \"\"\"Helper wrapper that passes calls to parent's instance\"\"\"\n",
    "    def wrapped(self, *args, **kwargs):\n",
    "        res = meth(self, *args, **kwargs)\n",
    "        if getattr(self, 'parent', None) is not None:\n",
    "            getattr(self.parent, meth.__name__)(*args, **kwargs)\n",
    "        return res\n",
    "    # Unfortunately functools wrapper fails\n",
    "    # when decorating built-in methods so we\n",
    "    # need to fix that improper behaviour\n",
    "    wrapped.__name__ = meth.__name__\n",
    "    return wrapped"
   ]
  },
  {
   "cell_type": "markdown",
   "metadata": {},
   "source": [
    "treedictクラス"
   ]
  },
  {
   "cell_type": "code",
   "execution_count": 4,
   "metadata": {
    "collapsed": true
   },
   "outputs": [],
   "source": [
    "class treedict(dict):\n",
    "    \"\"\"A dict that passes mutable extending operations used in Model\n",
    "    to parent dict instance.\n",
    "    Extending treedict you will also extend its parent\n",
    "    \"\"\"\n",
    "    def __init__(self, iterable=(), parent=None, **kwargs):\n",
    "        super(treedict, self).__init__(iterable, **kwargs)\n",
    "        assert isinstance(parent, dict) or parent is None\n",
    "        self.parent = parent\n",
    "        if self.parent is not None:\n",
    "            self.parent.update(self)\n",
    "    # typechecking here works bad\n",
    "    __setitem__ = withparent(dict.__setitem__)\n",
    "    update = withparent(dict.update)\n",
    "\n",
    "    def tree_contains(self, item):\n",
    "        # needed for `add_random_variable` method\n",
    "        if isinstance(self.parent, treedict):\n",
    "            return (dict.__contains__(self, item) or\n",
    "                    self.parent.tree_contains(item))\n",
    "        elif isinstance(self.parent, dict):\n",
    "            return (dict.__contains__(self, item) or\n",
    "                    self.parent.__contains__(item))\n",
    "        else:\n",
    "            return dict.__contains__(self, item)\n"
   ]
  },
  {
   "cell_type": "markdown",
   "metadata": {},
   "source": [
    "Modelクラス"
   ]
  },
  {
   "cell_type": "code",
   "execution_count": 8,
   "metadata": {
    "collapsed": true
   },
   "outputs": [],
   "source": [
    "class WithTreeModel(Context):\n",
    "    def __new__(cls, *args, **kwargs):\n",
    "        instance = super(WithTreeModel, cls).__new__(cls)\n",
    "        if kwargs.get('model') is not None:\n",
    "            instance.parent = kwargs.get('model')\n",
    "        elif cls.get_contexts():\n",
    "            instance.parent = cls.get_contexts()[-1]\n",
    "        else:\n",
    "            instance.parent = None\n",
    "        return instance\n",
    "            \n",
    "    \n",
    "    def __init__(self, name=\"\", model=None, ):\n",
    "        self.name = name\n",
    "        if self.parent is not None:\n",
    "            self.named_vars = treedict(parent=self.parent.named_vars)\n",
    "        else:\n",
    "            self.named_vars = treedict()\n",
    "            \n",
    "    @property\n",
    "    def model(self):\n",
    "        return self\n",
    "    \n",
    "    @property\n",
    "    def decription(self):\n",
    "        return\n",
    "    \n",
    "    @classmethod\n",
    "    def get_contexts(cls):\n",
    "        # no race-condition here, cls.contexts is a thread-local object\n",
    "        # be sure not to override contexts in a subclass however!\n",
    "        if not hasattr(cls.contexts, 'stack'):\n",
    "            cls.contexts.stack = []\n",
    "        return cls.contexts.stack\n",
    "\n",
    "    @classmethod\n",
    "    def get_context(cls):\n",
    "        \"\"\"Return the deepest context on the stack.\"\"\"\n",
    "        try:\n",
    "            return cls.get_contexts()[-1]\n",
    "        except IndexError:\n",
    "            raise TypeError(\"No context on context stack\")\n",
    "            \n",
    "    def add_random_variable(self, var):\n",
    "        \"\"\"Add a random variable to the named variables of the model.\"\"\"\n",
    "        if self.named_vars.tree_contains(var.name):\n",
    "            raise ValueError(\n",
    "                \"Variable name {} already exists.\".format(var.name))\n",
    "        self.named_vars[var.name] = var"
   ]
  },
  {
   "cell_type": "code",
   "execution_count": 9,
   "metadata": {
    "collapsed": true
   },
   "outputs": [],
   "source": [
    "class Model(Context):\n",
    "    def __new__(cls, **kwargs):\n",
    "        instance = super(Model, cls).__new__(cls)\n",
    "        if kwargs.get('model') is not None:\n",
    "            instance.parent = kwargs.get('model')\n",
    "        elif cls.get_contexts():\n",
    "            instance.parent = cls.get_contexts()[-1]\n",
    "        else:\n",
    "            instance.parent = None\n",
    "        return instance\n",
    "\n",
    "    def __init__(self, name=\"\", model=None, ):\n",
    "        self.name = name\n",
    "        self.named_vars = {}\n",
    "        self.parent = model\n",
    "\n",
    "    @property\n",
    "    def model(self):\n",
    "        return self\n",
    "\n",
    "    @property\n",
    "    def decription(self):\n",
    "        return\n",
    "\n",
    "    @classmethod\n",
    "    def get_contexts(cls):\n",
    "        # no race-condition here, cls.contexts is a thread-local object\n",
    "        # be sure not to override contexts in a subclass however!\n",
    "        if not hasattr(cls.contexts, 'stack'):\n",
    "            cls.contexts.stack = []\n",
    "        return cls.contexts.stack\n",
    "\n",
    "    @classmethod\n",
    "    def get_context(cls):\n",
    "        \"\"\"Return the deepest context on the stack.\"\"\"\n",
    "        try:\n",
    "            return cls.get_contexts()[-1]\n",
    "        except IndexError:\n",
    "            raise TypeError(\"No context on context stack\")\n",
    "\n",
    "    def add_random_variable(self, var):\n",
    "        \"\"\"Add a random variable to the named variables of the model.\"\"\"\n",
    "        if var.name in self.named_vars:\n",
    "            raise ValueError(\n",
    "                \"Variable name {} already exists.\".format(var.name))\n",
    "        self.named_vars[var.name] = var"
   ]
  },
  {
   "cell_type": "markdown",
   "metadata": {},
   "source": [
    "RandomVariableクラス"
   ]
  },
  {
   "cell_type": "code",
   "execution_count": 10,
   "metadata": {
    "collapsed": true
   },
   "outputs": [],
   "source": [
    "class WithTreeRandomVariable(): # TODO: temporarily remove ed.RandomVariable\n",
    "    \n",
    "    def __init__(\n",
    "                self,\n",
    "#                 distribution,\n",
    "#                 sample_shape=(),\n",
    "                value=None,\n",
    "                name=\"RV\"\n",
    "                ):\n",
    "        self.model = WithTreeModel.get_context()\n",
    "        self.name = name\n",
    "\n",
    "#         super(RandomVariable, self).__init__(\n",
    "#                                                 distribution,\n",
    "#                                                 sample_shape,\n",
    "#                                                 value,\n",
    "#                                                 )\n",
    "        \n",
    "        self.model.add_random_variable(self)"
   ]
  },
  {
   "cell_type": "code",
   "execution_count": 25,
   "metadata": {
    "collapsed": true
   },
   "outputs": [],
   "source": [
    "class RandomVariable(): # TODO: temporarily remove ed.RandomVariable\n",
    "\n",
    "    def __init__(\n",
    "            self,\n",
    "            name,\n",
    "#             distribution,\n",
    "#             sample_shape=(),\n",
    "            value=None,\n",
    "    ):\n",
    "        self.context_stack = Model.get_contexts()\n",
    "        self.model = Model.get_context()\n",
    "        self.name = name\n",
    "\n",
    "#         super(RandomVariable, self).__init__(\n",
    "#             distribution,\n",
    "#             sample_shape,\n",
    "#             value,\n",
    "#         )\n",
    "\n",
    "        for model in self.context_stack:\n",
    "            model.add_random_variable(self)"
   ]
  },
  {
   "cell_type": "markdown",
   "metadata": {},
   "source": [
    "# 動作確認"
   ]
  },
  {
   "cell_type": "markdown",
   "metadata": {},
   "source": [
    "【before】treedictクラスに依存している場合、ModelがネストするとparentにもRandomVariableが伝搬する"
   ]
  },
  {
   "cell_type": "code",
   "execution_count": 30,
   "metadata": {},
   "outputs": [
    {
     "name": "stdout",
     "output_type": "stream",
     "text": [
      "model1: ['rv1', 'rv2', 'rv3']\n",
      "model2: ['rv2', 'rv3']\n"
     ]
    }
   ],
   "source": [
    "with WithTreeModel(name=\"model1\") as model1:\n",
    "    rv1 = WithTreeRandomVariable(name=\"rv1\")\n",
    "    with WithTreeModel(name=\"model2\") as model2:\n",
    "        rv2 = WithTreeRandomVariable(name=\"rv2\")\n",
    "        rv3 = WithTreeRandomVariable(name=\"rv3\")\n",
    "        print(\"model1: {}\".format([v for v in model1.named_vars]))\n",
    "        print(\"model2: {}\".format([v for v in model2.named_vars]))"
   ]
  },
  {
   "cell_type": "markdown",
   "metadata": {},
   "source": [
    "【after】treedictクラスに依存せず、RandomVarible内でModel.get_contextsを辿っている場合、ModelがネストするとparentにもRandomVariableが伝搬する"
   ]
  },
  {
   "cell_type": "code",
   "execution_count": 31,
   "metadata": {},
   "outputs": [
    {
     "name": "stdout",
     "output_type": "stream",
     "text": [
      "model1: ['rv1', 'rv2', 'rv3']\n",
      "model2: ['rv2', 'rv3']\n"
     ]
    }
   ],
   "source": [
    "with Model(name=\"model1\") as model1:\n",
    "    rv1 = RandomVariable(name=\"rv1\")\n",
    "    with Model(name=\"model2\") as model2:\n",
    "        rv2 = RandomVariable(name=\"rv2\")\n",
    "        rv3 = RandomVariable(name=\"rv3\")\n",
    "        print(\"model1: {}\".format([v for v in model1.named_vars]))\n",
    "        print(\"model2: {}\".format([v for v in model2.named_vars]))"
   ]
  }
 ],
 "metadata": {
  "kernelspec": {
   "display_name": "Python 3",
   "language": "python",
   "name": "python3"
  },
  "language_info": {
   "codemirror_mode": {
    "name": "ipython",
    "version": 3
   },
   "file_extension": ".py",
   "mimetype": "text/x-python",
   "name": "python",
   "nbconvert_exporter": "python",
   "pygments_lexer": "ipython3",
   "version": "3.6.2"
  }
 },
 "nbformat": 4,
 "nbformat_minor": 2
}
